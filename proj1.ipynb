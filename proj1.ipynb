{
 "cells": [
  {
   "cell_type": "code",
   "execution_count": 30,
   "metadata": {},
   "outputs": [],
   "source": [
    "import pandas as pd\n",
    "import numpy as np\n",
    "from sklearn.model_selection import train_test_split, GridSearchCV, cross_val_score\n",
    "from sklearn.preprocessing import StandardScaler, MinMaxScaler\n",
    "from sklearn.metrics import accuracy_score, precision_score, recall_score, f1_score, confusion_matrix, roc_curve, auc\n",
    "from sklearn.linear_model import LogisticRegression\n",
    "from sklearn.svm import SVC\n",
    "from sklearn.neighbors import KNeighborsClassifier\n",
    "import matplotlib.pyplot as plt\n",
    "import seaborn as sns\n"
   ]
  },
  {
   "cell_type": "code",
   "execution_count": 31,
   "metadata": {},
   "outputs": [],
   "source": [
    "file_paths = [\n",
    "    'C:/Users/daral/OneDrive - Atlantic TU/year 4/Gesture UI/project1/peugeot_207_02.csv',\n",
    "    'C:/Users/daral/OneDrive - Atlantic TU/year 4/Gesture UI/project1/peugeot_207_01.csv',\n",
    "    'C:/Users/daral/OneDrive - Atlantic TU/year 4/Gesture UI/project1/opel_corsa_01.csv',\n",
    "    'C:/Users/daral/OneDrive - Atlantic TU/year 4/Gesture UI/project1/opel_corsa_02.csv',\n",
    "    ]\n",
    "\n",
    "# Function to get the columns of a CSV file\n",
    "def get_columns(file_path):\n",
    "    return pd.read_csv(file_path, delimiter=';', encoding='latin1', nrows=0)\n",
    "\n",
    "# Dictionary to hold file paths and their respective columns\n",
    "file_columns = {file_path: get_columns(file_path).columns.tolist() for file_path in file_paths}"
   ]
  },
  {
   "cell_type": "code",
   "execution_count": 32,
   "metadata": {},
   "outputs": [
    {
     "name": "stdout",
     "output_type": "stream",
     "text": [
      "All files have the same structure: True\n"
     ]
    }
   ],
   "source": [
    "# Extract the columns of the first file to use as a reference\n",
    "reference_columns = file_columns[file_paths[0]]\n",
    "\n",
    "# Function to compare two lists\n",
    "def lists_match(list1, list2):\n",
    "    return list1 == list2\n",
    "\n",
    "# Check if all files have the same structure\n",
    "all_match = all(lists_match(reference_columns, cols) for cols in file_columns.values())\n",
    "\n",
    "print(f\"All files have the same structure: {all_match}\")\n"
   ]
  },
  {
   "cell_type": "code",
   "execution_count": 33,
   "metadata": {},
   "outputs": [
    {
     "name": "stdout",
     "output_type": "stream",
     "text": [
      "   Unnamed: 0  AltitudeVariation  VehicleSpeedInstantaneous  \\\n",
      "0          59          -0.599998                  24.299999   \n",
      "1          60           0.099998                  27.900000   \n",
      "2          61          -0.200001                  30.599998   \n",
      "3          62          -0.899998                  29.699999   \n",
      "4          63          -0.900002                  28.799999   \n",
      "\n",
      "   VehicleSpeedAverage  VehicleSpeedVariance  VehicleSpeedVariation  \\\n",
      "0             8.720689             46.843772               6.299999   \n",
      "1             9.045762             52.270798               3.600000   \n",
      "2             9.405000             59.127937               2.699999   \n",
      "3             9.900000             64.360674              -0.900000   \n",
      "4            10.380000             68.519589              -0.900000   \n",
      "\n",
      "   LongitudinalAcceleration  EngineLoad  EngineCoolantTemperature  \\\n",
      "0                   -1.2903   67.058823                      26.0   \n",
      "1                   -1.4038    0.000000                      26.0   \n",
      "2                   -1.3209   28.235294                      26.0   \n",
      "3                   -1.4974    0.000000                      26.0   \n",
      "4                   -1.3275   71.764709                      26.0   \n",
      "\n",
      "   ManifoldAbsolutePressure  EngineRPM  MassAirFlow  IntakeAirTemperature  \\\n",
      "0                     115.0     1809.0    22.360001                  15.0   \n",
      "1                     107.0      947.5    23.129999                  17.0   \n",
      "2                     103.0      797.0    10.130000                  17.0   \n",
      "3                     101.0     1112.0     6.050000                  15.0   \n",
      "4                     102.0     1150.0    11.740000                  15.0   \n",
      "\n",
      "   VerticalAcceleration  FuelConsumptionAverage      roadSurface  \\\n",
      "0                0.1468               28.784592  UnevenCondition   \n",
      "1                0.2022               28.728073  UnevenCondition   \n",
      "2                0.1834               27.799021  UnevenCondition   \n",
      "3                0.2099               26.150261  UnevenCondition   \n",
      "4                0.2898               25.721266  UnevenCondition   \n",
      "\n",
      "                     traffic   drivingStyle  \n",
      "0  NormalCongestionCondition  EvenPaceStyle  \n",
      "1  NormalCongestionCondition  EvenPaceStyle  \n",
      "2  NormalCongestionCondition  EvenPaceStyle  \n",
      "3  NormalCongestionCondition  EvenPaceStyle  \n",
      "4  NormalCongestionCondition  EvenPaceStyle  \n"
     ]
    }
   ],
   "source": [
    "# concatenate all CSV files into a single DataFrame\n",
    "def concatenate_csv_files(file_paths):\n",
    "    dfs = []  # List to store DataFrames\n",
    "    for file_path in file_paths:\n",
    "        df = pd.read_csv(file_path, delimiter=';', encoding='latin1')  # Load each file into a DataFrame\n",
    "        dfs.append(df)  # Append the DataFrame to the list\n",
    "    combined_df = pd.concat(dfs, ignore_index=True)  # Concatenate all DataFrames\n",
    "    return combined_df\n",
    "\n",
    "# concatenate all your files\n",
    "combined_df = concatenate_csv_files(file_paths)\n",
    "\n",
    "#  inspect the combined DataFrame\n",
    "print(combined_df.head())  # Print the first 5 rows of the combined dataframe"
   ]
  },
  {
   "cell_type": "markdown",
   "metadata": {},
   "source": [
    "This method helps identify columns with missing values and gives you an insight into the datatypes of each column.\n"
   ]
  },
  {
   "cell_type": "code",
   "execution_count": 41,
   "metadata": {},
   "outputs": [
    {
     "name": "stdout",
     "output_type": "stream",
     "text": [
      "<class 'pandas.core.frame.DataFrame'>\n",
      "RangeIndex: 23775 entries, 0 to 23774\n",
      "Data columns (total 18 columns):\n",
      " #   Column                     Non-Null Count  Dtype  \n",
      "---  ------                     --------------  -----  \n",
      " 0   Unnamed: 0                 23775 non-null  int64  \n",
      " 1   AltitudeVariation          23775 non-null  float64\n",
      " 2   VehicleSpeedInstantaneous  23766 non-null  float64\n",
      " 3   VehicleSpeedAverage        23775 non-null  float64\n",
      " 4   VehicleSpeedVariance       23775 non-null  float64\n",
      " 5   VehicleSpeedVariation      23775 non-null  float64\n",
      " 6   LongitudinalAcceleration   23775 non-null  float64\n",
      " 7   EngineLoad                 23770 non-null  float64\n",
      " 8   EngineCoolantTemperature   23770 non-null  float64\n",
      " 9   ManifoldAbsolutePressure   23770 non-null  float64\n",
      " 10  EngineRPM                  23770 non-null  float64\n",
      " 11  MassAirFlow                23770 non-null  float64\n",
      " 12  IntakeAirTemperature       23770 non-null  float64\n",
      " 13  VerticalAcceleration       23775 non-null  float64\n",
      " 14  FuelConsumptionAverage     23770 non-null  float64\n",
      " 15  roadSurface                23775 non-null  object \n",
      " 16  traffic                    23775 non-null  object \n",
      " 17  drivingStyle               23775 non-null  object \n",
      "dtypes: float64(14), int64(1), object(3)\n",
      "memory usage: 3.3+ MB\n"
     ]
    }
   ],
   "source": [
    "combined_df.info()\n"
   ]
  },
  {
   "cell_type": "markdown",
   "metadata": {},
   "source": [
    "The .describe() method shows a quick statistic summary of your numerical data."
   ]
  },
  {
   "cell_type": "code",
   "execution_count": 39,
   "metadata": {},
   "outputs": [
    {
     "data": {
      "text/html": [
       "<div>\n",
       "<style scoped>\n",
       "    .dataframe tbody tr th:only-of-type {\n",
       "        vertical-align: middle;\n",
       "    }\n",
       "\n",
       "    .dataframe tbody tr th {\n",
       "        vertical-align: top;\n",
       "    }\n",
       "\n",
       "    .dataframe thead th {\n",
       "        text-align: right;\n",
       "    }\n",
       "</style>\n",
       "<table border=\"1\" class=\"dataframe\">\n",
       "  <thead>\n",
       "    <tr style=\"text-align: right;\">\n",
       "      <th></th>\n",
       "      <th>Unnamed: 0</th>\n",
       "      <th>AltitudeVariation</th>\n",
       "      <th>VehicleSpeedInstantaneous</th>\n",
       "      <th>VehicleSpeedAverage</th>\n",
       "      <th>VehicleSpeedVariance</th>\n",
       "      <th>VehicleSpeedVariation</th>\n",
       "      <th>LongitudinalAcceleration</th>\n",
       "      <th>EngineLoad</th>\n",
       "      <th>EngineCoolantTemperature</th>\n",
       "      <th>ManifoldAbsolutePressure</th>\n",
       "      <th>EngineRPM</th>\n",
       "      <th>MassAirFlow</th>\n",
       "      <th>IntakeAirTemperature</th>\n",
       "      <th>VerticalAcceleration</th>\n",
       "      <th>FuelConsumptionAverage</th>\n",
       "    </tr>\n",
       "  </thead>\n",
       "  <tbody>\n",
       "    <tr>\n",
       "      <th>count</th>\n",
       "      <td>23775.000000</td>\n",
       "      <td>23775.000000</td>\n",
       "      <td>23766.000000</td>\n",
       "      <td>23775.000000</td>\n",
       "      <td>23775.000000</td>\n",
       "      <td>23775.000000</td>\n",
       "      <td>23775.000000</td>\n",
       "      <td>23770.000000</td>\n",
       "      <td>23770.000000</td>\n",
       "      <td>23770.000000</td>\n",
       "      <td>23770.000000</td>\n",
       "      <td>23770.000000</td>\n",
       "      <td>23770.000000</td>\n",
       "      <td>23775.000000</td>\n",
       "      <td>23770.000000</td>\n",
       "    </tr>\n",
       "    <tr>\n",
       "      <th>mean</th>\n",
       "      <td>3410.669106</td>\n",
       "      <td>-0.263008</td>\n",
       "      <td>38.644538</td>\n",
       "      <td>38.811064</td>\n",
       "      <td>171.920888</td>\n",
       "      <td>-0.020554</td>\n",
       "      <td>0.681683</td>\n",
       "      <td>36.762356</td>\n",
       "      <td>70.818721</td>\n",
       "      <td>115.195120</td>\n",
       "      <td>1486.820257</td>\n",
       "      <td>16.045632</td>\n",
       "      <td>23.483004</td>\n",
       "      <td>0.463398</td>\n",
       "      <td>15.171096</td>\n",
       "    </tr>\n",
       "    <tr>\n",
       "      <th>std</th>\n",
       "      <td>2196.419996</td>\n",
       "      <td>2.091264</td>\n",
       "      <td>33.864438</td>\n",
       "      <td>31.149198</td>\n",
       "      <td>182.751192</td>\n",
       "      <td>2.475485</td>\n",
       "      <td>1.582911</td>\n",
       "      <td>26.640593</td>\n",
       "      <td>15.685020</td>\n",
       "      <td>20.455268</td>\n",
       "      <td>578.064539</td>\n",
       "      <td>9.692254</td>\n",
       "      <td>10.902487</td>\n",
       "      <td>3.462745</td>\n",
       "      <td>4.603774</td>\n",
       "    </tr>\n",
       "    <tr>\n",
       "      <th>min</th>\n",
       "      <td>44.000000</td>\n",
       "      <td>-24.600006</td>\n",
       "      <td>0.000000</td>\n",
       "      <td>0.000000</td>\n",
       "      <td>0.000000</td>\n",
       "      <td>-103.500000</td>\n",
       "      <td>-3.065000</td>\n",
       "      <td>0.000000</td>\n",
       "      <td>12.000000</td>\n",
       "      <td>88.000000</td>\n",
       "      <td>0.000000</td>\n",
       "      <td>0.880000</td>\n",
       "      <td>7.000000</td>\n",
       "      <td>-2.763100</td>\n",
       "      <td>7.271883</td>\n",
       "    </tr>\n",
       "    <tr>\n",
       "      <th>25%</th>\n",
       "      <td>1608.000000</td>\n",
       "      <td>-1.399996</td>\n",
       "      <td>11.700000</td>\n",
       "      <td>15.991532</td>\n",
       "      <td>46.048954</td>\n",
       "      <td>-0.900001</td>\n",
       "      <td>-0.219000</td>\n",
       "      <td>18.823530</td>\n",
       "      <td>63.000000</td>\n",
       "      <td>102.000000</td>\n",
       "      <td>854.000000</td>\n",
       "      <td>6.970000</td>\n",
       "      <td>16.000000</td>\n",
       "      <td>-0.554000</td>\n",
       "      <td>11.672288</td>\n",
       "    </tr>\n",
       "    <tr>\n",
       "      <th>50%</th>\n",
       "      <td>3150.000000</td>\n",
       "      <td>-0.099998</td>\n",
       "      <td>31.500000</td>\n",
       "      <td>29.314682</td>\n",
       "      <td>113.907731</td>\n",
       "      <td>0.000000</td>\n",
       "      <td>0.391000</td>\n",
       "      <td>31.372549</td>\n",
       "      <td>79.000000</td>\n",
       "      <td>107.000000</td>\n",
       "      <td>1485.000000</td>\n",
       "      <td>15.360000</td>\n",
       "      <td>19.000000</td>\n",
       "      <td>-0.078100</td>\n",
       "      <td>14.520122</td>\n",
       "    </tr>\n",
       "    <tr>\n",
       "      <th>75%</th>\n",
       "      <td>4906.500000</td>\n",
       "      <td>0.700001</td>\n",
       "      <td>54.899998</td>\n",
       "      <td>50.148162</td>\n",
       "      <td>230.200656</td>\n",
       "      <td>0.900002</td>\n",
       "      <td>1.159700</td>\n",
       "      <td>58.431374</td>\n",
       "      <td>81.000000</td>\n",
       "      <td>120.000000</td>\n",
       "      <td>1955.875000</td>\n",
       "      <td>21.717499</td>\n",
       "      <td>31.000000</td>\n",
       "      <td>0.237250</td>\n",
       "      <td>18.288337</td>\n",
       "    </tr>\n",
       "    <tr>\n",
       "      <th>max</th>\n",
       "      <td>8613.000000</td>\n",
       "      <td>11.400002</td>\n",
       "      <td>124.749725</td>\n",
       "      <td>121.330733</td>\n",
       "      <td>1418.370369</td>\n",
       "      <td>97.199997</td>\n",
       "      <td>8.477800</td>\n",
       "      <td>100.000000</td>\n",
       "      <td>89.000000</td>\n",
       "      <td>252.000000</td>\n",
       "      <td>3167.000000</td>\n",
       "      <td>73.250000</td>\n",
       "      <td>65.000000</td>\n",
       "      <td>17.944800</td>\n",
       "      <td>45.336861</td>\n",
       "    </tr>\n",
       "  </tbody>\n",
       "</table>\n",
       "</div>"
      ],
      "text/plain": [
       "         Unnamed: 0  AltitudeVariation  VehicleSpeedInstantaneous  \\\n",
       "count  23775.000000       23775.000000               23766.000000   \n",
       "mean    3410.669106          -0.263008                  38.644538   \n",
       "std     2196.419996           2.091264                  33.864438   \n",
       "min       44.000000         -24.600006                   0.000000   \n",
       "25%     1608.000000          -1.399996                  11.700000   \n",
       "50%     3150.000000          -0.099998                  31.500000   \n",
       "75%     4906.500000           0.700001                  54.899998   \n",
       "max     8613.000000          11.400002                 124.749725   \n",
       "\n",
       "       VehicleSpeedAverage  VehicleSpeedVariance  VehicleSpeedVariation  \\\n",
       "count         23775.000000          23775.000000           23775.000000   \n",
       "mean             38.811064            171.920888              -0.020554   \n",
       "std              31.149198            182.751192               2.475485   \n",
       "min               0.000000              0.000000            -103.500000   \n",
       "25%              15.991532             46.048954              -0.900001   \n",
       "50%              29.314682            113.907731               0.000000   \n",
       "75%              50.148162            230.200656               0.900002   \n",
       "max             121.330733           1418.370369              97.199997   \n",
       "\n",
       "       LongitudinalAcceleration    EngineLoad  EngineCoolantTemperature  \\\n",
       "count              23775.000000  23770.000000              23770.000000   \n",
       "mean                   0.681683     36.762356                 70.818721   \n",
       "std                    1.582911     26.640593                 15.685020   \n",
       "min                   -3.065000      0.000000                 12.000000   \n",
       "25%                   -0.219000     18.823530                 63.000000   \n",
       "50%                    0.391000     31.372549                 79.000000   \n",
       "75%                    1.159700     58.431374                 81.000000   \n",
       "max                    8.477800    100.000000                 89.000000   \n",
       "\n",
       "       ManifoldAbsolutePressure     EngineRPM   MassAirFlow  \\\n",
       "count              23770.000000  23770.000000  23770.000000   \n",
       "mean                 115.195120   1486.820257     16.045632   \n",
       "std                   20.455268    578.064539      9.692254   \n",
       "min                   88.000000      0.000000      0.880000   \n",
       "25%                  102.000000    854.000000      6.970000   \n",
       "50%                  107.000000   1485.000000     15.360000   \n",
       "75%                  120.000000   1955.875000     21.717499   \n",
       "max                  252.000000   3167.000000     73.250000   \n",
       "\n",
       "       IntakeAirTemperature  VerticalAcceleration  FuelConsumptionAverage  \n",
       "count          23770.000000          23775.000000            23770.000000  \n",
       "mean              23.483004              0.463398               15.171096  \n",
       "std               10.902487              3.462745                4.603774  \n",
       "min                7.000000             -2.763100                7.271883  \n",
       "25%               16.000000             -0.554000               11.672288  \n",
       "50%               19.000000             -0.078100               14.520122  \n",
       "75%               31.000000              0.237250               18.288337  \n",
       "max               65.000000             17.944800               45.336861  "
      ]
     },
     "execution_count": 39,
     "metadata": {},
     "output_type": "execute_result"
    }
   ],
   "source": [
    "combined_df.describe()\n"
   ]
  },
  {
   "cell_type": "code",
   "execution_count": 44,
   "metadata": {},
   "outputs": [
    {
     "name": "stdout",
     "output_type": "stream",
     "text": [
      "0    59\n",
      "1    60\n",
      "2    61\n",
      "3    62\n",
      "4    63\n",
      "Name: Unnamed: 0, dtype: int64\n"
     ]
    }
   ],
   "source": [
    "print(combined_df['Unnamed: 0'].head())\n"
   ]
  },
  {
   "cell_type": "code",
   "execution_count": 43,
   "metadata": {},
   "outputs": [
    {
     "data": {
      "text/plain": [
       "drivingStyle\n",
       "EvenPaceStyle      21016\n",
       "AggressiveStyle     2759\n",
       "Name: count, dtype: int64"
      ]
     },
     "execution_count": 43,
     "metadata": {},
     "output_type": "execute_result"
    }
   ],
   "source": [
    "combined_df['drivingStyle'].value_counts()"
   ]
  },
  {
   "cell_type": "markdown",
   "metadata": {},
   "source": [
    "drop rows with any missing values:"
   ]
  },
  {
   "cell_type": "code",
   "execution_count": 45,
   "metadata": {},
   "outputs": [],
   "source": [
    "def check_first_index(file_path):\n",
    "    df_temp = pd.read_csv(file_path, delimiter=';', encoding='latin1', nrows=1)\n",
    "    first_index = df_temp.iloc[0]['Unnamed: 0']\n",
    "    return first_index\n"
   ]
  },
  {
   "cell_type": "code",
   "execution_count": 46,
   "metadata": {},
   "outputs": [
    {
     "name": "stdout",
     "output_type": "stream",
     "text": [
      "First index in peugeot_207_02.csv: 59\n",
      "First index in peugeot_207_01.csv: 59\n",
      "First index in opel_corsa_01.csv: 59\n",
      "First index in opel_corsa_02.csv: 44\n"
     ]
    }
   ],
   "source": [
    "file_paths = [\n",
    "    'C:/Users/daral/OneDrive - Atlantic TU/year 4/Gesture UI/project1/peugeot_207_02.csv',\n",
    "    'C:/Users/daral/OneDrive - Atlantic TU/year 4/Gesture UI/project1/peugeot_207_01.csv',\n",
    "    'C:/Users/daral/OneDrive - Atlantic TU/year 4/Gesture UI/project1/opel_corsa_01.csv',\n",
    "    'C:/Users/daral/OneDrive - Atlantic TU/year 4/Gesture UI/project1/opel_corsa_02.csv',\n",
    "]\n",
    "\n",
    "# Check and print the first index of each file\n",
    "for file_path in file_paths:\n",
    "    first_index = check_first_index(file_path)\n",
    "    print(f\"First index in {file_path.split('/')[-1]}: {first_index}\")\n"
   ]
  },
  {
   "cell_type": "code",
   "execution_count": 37,
   "metadata": {},
   "outputs": [],
   "source": [
    "# df = df.dropna()\n"
   ]
  },
  {
   "cell_type": "markdown",
   "metadata": {},
   "source": [
    "fill missing values with the median of the column:"
   ]
  },
  {
   "cell_type": "code",
   "execution_count": 38,
   "metadata": {},
   "outputs": [],
   "source": [
    "# df = df.fillna(df.median())"
   ]
  }
 ],
 "metadata": {
  "kernelspec": {
   "display_name": "Python 3",
   "language": "python",
   "name": "python3"
  },
  "language_info": {
   "codemirror_mode": {
    "name": "ipython",
    "version": 3
   },
   "file_extension": ".py",
   "mimetype": "text/x-python",
   "name": "python",
   "nbconvert_exporter": "python",
   "pygments_lexer": "ipython3",
   "version": "3.8.18"
  }
 },
 "nbformat": 4,
 "nbformat_minor": 2
}
